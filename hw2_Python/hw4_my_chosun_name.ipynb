{
 "cells": [
  {
   "cell_type": "code",
   "execution_count": 7,
   "id": "4a07135d",
   "metadata": {},
   "outputs": [],
   "source": [
    "first_name = ['쌍', '쇠', '복', '돌', '팽', '육', '쌍', '개', '칠', '갑', '삼', '방']   #1\n",
    "second_name = ['봉', '구', '욕', '포', '똥', '삼', '식', '석', '놈', '님', '년', '돌', '단', '득', '방', '질', '장', '걸', '래', '룡', '동', '순', '자', '박', '창', '언', '것', '포', '만', '단', '국']    #2"
   ]
  },
  {
   "cell_type": "code",
   "execution_count": 8,
   "id": "f88280f4",
   "metadata": {},
   "outputs": [
    {
     "name": "stdout",
     "output_type": "stream",
     "text": [
      "백팽욕\n"
     ]
    }
   ],
   "source": [
    "def get_my_chosun_name(family_name, month, day):    #3\n",
    "    chosun_name = family_name + first_name[month - 1] + second_name[day - 1]\n",
    "    return chosun_name\n",
    "    \n",
    "name = get_my_chosun_name(\"백\", 5, 3)\n",
    "print(name) #4"
   ]
  }
 ],
 "metadata": {
  "kernelspec": {
   "display_name": "base",
   "language": "python",
   "name": "python3"
  },
  "language_info": {
   "codemirror_mode": {
    "name": "ipython",
    "version": 3
   },
   "file_extension": ".py",
   "mimetype": "text/x-python",
   "name": "python",
   "nbconvert_exporter": "python",
   "pygments_lexer": "ipython3",
   "version": "3.12.4"
  }
 },
 "nbformat": 4,
 "nbformat_minor": 5
}
