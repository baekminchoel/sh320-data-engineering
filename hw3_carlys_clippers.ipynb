{
 "cells": [
  {
   "cell_type": "code",
   "execution_count": 26,
   "id": "b4d74b0f",
   "metadata": {},
   "outputs": [],
   "source": [
    "hairstyles = [\"bouffant\", \"pixie\", \"dreadlocks\", \"crew\", \"bowl\", \"bob\", \"mohawk\", \"flattop\"]"
   ]
  },
  {
   "cell_type": "code",
   "execution_count": 27,
   "id": "b9dd59e6",
   "metadata": {},
   "outputs": [],
   "source": [
    "prices = [30, 25, 40, 20, 20, 35, 50, 35]"
   ]
  },
  {
   "cell_type": "code",
   "execution_count": 28,
   "id": "be151dd9",
   "metadata": {},
   "outputs": [],
   "source": [
    "last_week = [2, 3, 5, 8, 4, 4, 6, 2]"
   ]
  },
  {
   "cell_type": "markdown",
   "id": "76c0808e",
   "metadata": {},
   "source": [
    "## Prices and Cuts:"
   ]
  },
  {
   "cell_type": "code",
   "execution_count": 29,
   "id": "025302eb",
   "metadata": {},
   "outputs": [],
   "source": [
    "total_price = 0 #1"
   ]
  },
  {
   "cell_type": "code",
   "execution_count": 30,
   "id": "eebc091e",
   "metadata": {},
   "outputs": [
    {
     "data": {
      "text/plain": [
       "255"
      ]
     },
     "execution_count": 30,
     "metadata": {},
     "output_type": "execute_result"
    }
   ],
   "source": [
    "total_price = sum(prices)   #2\n",
    "total_price"
   ]
  },
  {
   "cell_type": "code",
   "execution_count": 31,
   "id": "e0afea58",
   "metadata": {},
   "outputs": [
    {
     "data": {
      "text/plain": [
       "31.875"
      ]
     },
     "execution_count": 31,
     "metadata": {},
     "output_type": "execute_result"
    }
   ],
   "source": [
    "average_price = total_price/len(prices) #3\n",
    "average_price   #4"
   ]
  },
  {
   "cell_type": "code",
   "execution_count": 32,
   "id": "a1f9e8e5",
   "metadata": {},
   "outputs": [
    {
     "data": {
      "text/plain": [
       "[25, 20, 35, 15, 15, 30, 45, 30]"
      ]
     },
     "execution_count": 32,
     "metadata": {},
     "output_type": "execute_result"
    }
   ],
   "source": [
    "new_prices = [price - 5 for price in prices]    #5\n",
    "new_prices  #6"
   ]
  },
  {
   "cell_type": "markdown",
   "id": "ff30fce6",
   "metadata": {},
   "source": [
    "## Revenue"
   ]
  },
  {
   "cell_type": "code",
   "execution_count": 33,
   "id": "743b6acf",
   "metadata": {},
   "outputs": [],
   "source": [
    "total_revenue = 0   #7"
   ]
  },
  {
   "cell_type": "code",
   "execution_count": 34,
   "id": "45304812",
   "metadata": {},
   "outputs": [
    {
     "data": {
      "text/plain": [
       "1085"
      ]
     },
     "execution_count": 34,
     "metadata": {},
     "output_type": "execute_result"
    }
   ],
   "source": [
    "for i in range(len(hairstyles)):    #8\n",
    "    total_revenue += prices[i] * last_week[i]   #9\n",
    "total_revenue   #10"
   ]
  },
  {
   "cell_type": "code",
   "execution_count": 35,
   "id": "5236ca0b",
   "metadata": {},
   "outputs": [
    {
     "data": {
      "text/plain": [
       "155.0"
      ]
     },
     "execution_count": 35,
     "metadata": {},
     "output_type": "execute_result"
    }
   ],
   "source": [
    "average_daily_revenue = total_revenue / 7   #11\n",
    "average_daily_revenue"
   ]
  },
  {
   "cell_type": "code",
   "execution_count": 36,
   "id": "030a97cc",
   "metadata": {},
   "outputs": [
    {
     "data": {
      "text/plain": [
       "['bouffant', 'pixie', 'crew', 'bowl']"
      ]
     },
     "execution_count": 36,
     "metadata": {},
     "output_type": "execute_result"
    }
   ],
   "source": [
    "cuts_under_30 = [hairstyles[i] for i in range(len(new_prices)) if new_prices[i] < 30]   #12\n",
    "cuts_under_30   #13"
   ]
  }
 ],
 "metadata": {
  "kernelspec": {
   "display_name": "base",
   "language": "python",
   "name": "python3"
  },
  "language_info": {
   "codemirror_mode": {
    "name": "ipython",
    "version": 3
   },
   "file_extension": ".py",
   "mimetype": "text/x-python",
   "name": "python",
   "nbconvert_exporter": "python",
   "pygments_lexer": "ipython3",
   "version": "3.12.4"
  }
 },
 "nbformat": 4,
 "nbformat_minor": 5
}
