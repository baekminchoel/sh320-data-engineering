{
 "cells": [
  {
   "cell_type": "markdown",
   "id": "df6bb3fe",
   "metadata": {},
   "source": [
    "## Create Some Lists:"
   ]
  },
  {
   "cell_type": "code",
   "execution_count": 1,
   "id": "4703cd59",
   "metadata": {},
   "outputs": [],
   "source": [
    "subject = [\"physics\",\"calculus\",\"poetry\",\"history\"] #1"
   ]
  },
  {
   "cell_type": "code",
   "execution_count": 2,
   "id": "ba2e80f5",
   "metadata": {},
   "outputs": [],
   "source": [
    "grades = [98,97,85,88]  #2"
   ]
  },
  {
   "cell_type": "code",
   "execution_count": 3,
   "id": "beb59ac4",
   "metadata": {},
   "outputs": [
    {
     "data": {
      "text/plain": [
       "[['physics', 98], ['calculus', 97], ['poetry', 85], ['history', 88]]"
      ]
     },
     "execution_count": 3,
     "metadata": {},
     "output_type": "execute_result"
    }
   ],
   "source": [
    "gradebook = []  #3\n",
    "for i in range(len(subject)):\n",
    "    gradebook.append([subject[i], grades[i]])\n",
    "gradebook   #4"
   ]
  },
  {
   "cell_type": "code",
   "execution_count": 4,
   "id": "161fa732",
   "metadata": {},
   "outputs": [
    {
     "data": {
      "text/plain": [
       "[['physics', 98],\n",
       " ['calculus', 97],\n",
       " ['poetry', 85],\n",
       " ['history', 88],\n",
       " ['computer science', 100]]"
      ]
     },
     "execution_count": 4,
     "metadata": {},
     "output_type": "execute_result"
    }
   ],
   "source": [
    "gradebook.append(['computer science', 100]) #5\n",
    "gradebook"
   ]
  },
  {
   "cell_type": "code",
   "execution_count": 5,
   "id": "9c5f0a93",
   "metadata": {},
   "outputs": [
    {
     "data": {
      "text/plain": [
       "[['physics', 98],\n",
       " ['calculus', 97],\n",
       " ['poetry', 85],\n",
       " ['history', 88],\n",
       " ['computer science', 100],\n",
       " ['visual arts', 93]]"
      ]
     },
     "execution_count": 5,
     "metadata": {},
     "output_type": "execute_result"
    }
   ],
   "source": [
    "gradebook.append(['visual arts', 93])   #6\n",
    "gradebook"
   ]
  },
  {
   "cell_type": "markdown",
   "id": "81542bf6",
   "metadata": {},
   "source": [
    "## Modify The Gradebook:"
   ]
  },
  {
   "cell_type": "code",
   "execution_count": 6,
   "id": "5237e340",
   "metadata": {},
   "outputs": [
    {
     "data": {
      "text/plain": [
       "[['physics', 98],\n",
       " ['calculus', 97],\n",
       " ['poetry', 85],\n",
       " ['history', 88],\n",
       " ['computer science', 100],\n",
       " ['visual arts', 98]]"
      ]
     },
     "execution_count": 6,
     "metadata": {},
     "output_type": "execute_result"
    }
   ],
   "source": [
    "gradebook[5][1] += 5    #7\n",
    "gradebook"
   ]
  },
  {
   "cell_type": "code",
   "execution_count": 7,
   "id": "0d71c84d",
   "metadata": {},
   "outputs": [],
   "source": [
    "gradebook[2].remove(85) #8"
   ]
  },
  {
   "cell_type": "code",
   "execution_count": 8,
   "id": "76293d08",
   "metadata": {},
   "outputs": [
    {
     "data": {
      "text/plain": [
       "[['physics', 98],\n",
       " ['calculus', 97],\n",
       " ['poetry', 'pass'],\n",
       " ['history', 88],\n",
       " ['computer science', 100],\n",
       " ['visual arts', 98]]"
      ]
     },
     "execution_count": 8,
     "metadata": {},
     "output_type": "execute_result"
    }
   ],
   "source": [
    "gradebook[2].append('pass') #9\n",
    "gradebook"
   ]
  },
  {
   "cell_type": "markdown",
   "id": "ea388f6c",
   "metadata": {},
   "source": [
    "## One Big Gradebook!"
   ]
  },
  {
   "cell_type": "code",
   "execution_count": 9,
   "id": "cb5bbf58",
   "metadata": {},
   "outputs": [],
   "source": [
    "last_semester_gradebook = [[\"politics\", 80], [\"latin\", 96], [\"dance\", 97], [\"architecture\", 65]]"
   ]
  },
  {
   "cell_type": "code",
   "execution_count": 10,
   "id": "67a0d3ee",
   "metadata": {},
   "outputs": [
    {
     "data": {
      "text/plain": [
       "[['politics', 80],\n",
       " ['latin', 96],\n",
       " ['dance', 97],\n",
       " ['architecture', 65],\n",
       " ['physics', 98],\n",
       " ['calculus', 97],\n",
       " ['poetry', 'pass'],\n",
       " ['history', 88],\n",
       " ['computer science', 100],\n",
       " ['visual arts', 98]]"
      ]
     },
     "execution_count": 10,
     "metadata": {},
     "output_type": "execute_result"
    }
   ],
   "source": [
    "full_gradebook = last_semester_gradebook + gradebook    #10\n",
    "full_gradebook"
   ]
  }
 ],
 "metadata": {
  "kernelspec": {
   "display_name": "base",
   "language": "python",
   "name": "python3"
  },
  "language_info": {
   "codemirror_mode": {
    "name": "ipython",
    "version": 3
   },
   "file_extension": ".py",
   "mimetype": "text/x-python",
   "name": "python",
   "nbconvert_exporter": "python",
   "pygments_lexer": "ipython3",
   "version": "3.12.4"
  }
 },
 "nbformat": 4,
 "nbformat_minor": 5
}
