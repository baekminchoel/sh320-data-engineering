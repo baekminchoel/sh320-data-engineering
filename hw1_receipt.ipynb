{
 "cells": [
  {
   "cell_type": "markdown",
   "id": "1649fe26",
   "metadata": {},
   "source": [
    "## Adding In The Catalog"
   ]
  },
  {
   "cell_type": "code",
   "execution_count": 4,
   "id": "384412df",
   "metadata": {},
   "outputs": [],
   "source": [
    "lovely_loveseat_description = \"Lovely Loveseat. Tufted polyester blend on wood. 32 inches high x 40 inches wide x 30 inches deep. Red or white.\"    #1"
   ]
  },
  {
   "cell_type": "code",
   "execution_count": 5,
   "id": "803f0c0a",
   "metadata": {},
   "outputs": [],
   "source": [
    "lovely_loveseat_price = 254.00  #2"
   ]
  },
  {
   "cell_type": "code",
   "execution_count": 6,
   "id": "acbd62be",
   "metadata": {},
   "outputs": [],
   "source": [
    "stylish_settee_description = \"Stylish Settee. Faux leather on birch. 29.50 inches high x 54.75 inches wide x 28 inches deep. Black.\"    #3"
   ]
  },
  {
   "cell_type": "code",
   "execution_count": 7,
   "id": "d34da7fb",
   "metadata": {},
   "outputs": [],
   "source": [
    "stylish_settee_price = 180.50   #4"
   ]
  },
  {
   "cell_type": "code",
   "execution_count": 8,
   "id": "58c58ba1",
   "metadata": {},
   "outputs": [],
   "source": [
    "luxurious_lamp_description = \"Luxurious Lamp. Glass and iron. 36 inches tall. Brown with cream shade.\"  #5"
   ]
  },
  {
   "cell_type": "code",
   "execution_count": 9,
   "id": "d991937f",
   "metadata": {},
   "outputs": [],
   "source": [
    "luxurious_lamp_price = 52.15    #6"
   ]
  },
  {
   "cell_type": "code",
   "execution_count": 10,
   "id": "4019097b",
   "metadata": {},
   "outputs": [],
   "source": [
    "sales_tax = 0.088   #7"
   ]
  },
  {
   "cell_type": "markdown",
   "id": "0970d15a",
   "metadata": {},
   "source": [
    "## Our First Customer"
   ]
  },
  {
   "cell_type": "code",
   "execution_count": 11,
   "id": "03c0c09a",
   "metadata": {},
   "outputs": [],
   "source": [
    "customer_one_total = 0  #8"
   ]
  },
  {
   "cell_type": "code",
   "execution_count": 12,
   "id": "38da67de",
   "metadata": {},
   "outputs": [],
   "source": [
    "customer_one_itemization = \"\"   #9"
   ]
  },
  {
   "cell_type": "code",
   "execution_count": 13,
   "id": "c03b3d04",
   "metadata": {},
   "outputs": [
    {
     "data": {
      "text/plain": [
       "254.0"
      ]
     },
     "execution_count": 13,
     "metadata": {},
     "output_type": "execute_result"
    }
   ],
   "source": [
    "customer_one_total += lovely_loveseat_price #10\n",
    "customer_one_total"
   ]
  },
  {
   "cell_type": "code",
   "execution_count": 14,
   "id": "4d7b38f2",
   "metadata": {},
   "outputs": [
    {
     "data": {
      "text/plain": [
       "'Lovely Loveseat. Tufted polyester blend on wood. 32 inches high x 40 inches wide x 30 inches deep. Red or white.'"
      ]
     },
     "execution_count": 14,
     "metadata": {},
     "output_type": "execute_result"
    }
   ],
   "source": [
    "customer_one_itemization += lovely_loveseat_description #11\n",
    "customer_one_itemization"
   ]
  },
  {
   "cell_type": "code",
   "execution_count": 15,
   "id": "6c4c647d",
   "metadata": {},
   "outputs": [
    {
     "data": {
      "text/plain": [
       "306.15"
      ]
     },
     "execution_count": 15,
     "metadata": {},
     "output_type": "execute_result"
    }
   ],
   "source": [
    "customer_one_total += luxurious_lamp_price  #12\n",
    "customer_one_total"
   ]
  },
  {
   "cell_type": "code",
   "execution_count": 16,
   "id": "99526aba",
   "metadata": {},
   "outputs": [
    {
     "data": {
      "text/plain": [
       "'Lovely Loveseat. Tufted polyester blend on wood. 32 inches high x 40 inches wide x 30 inches deep. Red or white.Luxurious Lamp. Glass and iron. 36 inches tall. Brown with cream shade.'"
      ]
     },
     "execution_count": 16,
     "metadata": {},
     "output_type": "execute_result"
    }
   ],
   "source": [
    "customer_one_itemization += luxurious_lamp_description  #13\n",
    "customer_one_itemization"
   ]
  },
  {
   "cell_type": "code",
   "execution_count": 17,
   "id": "46055f5a",
   "metadata": {},
   "outputs": [
    {
     "data": {
      "text/plain": [
       "26.941199999999995"
      ]
     },
     "execution_count": 17,
     "metadata": {},
     "output_type": "execute_result"
    }
   ],
   "source": [
    "customer_one_tax = customer_one_total*sales_tax #14\n",
    "customer_one_tax"
   ]
  },
  {
   "cell_type": "code",
   "execution_count": 18,
   "id": "ab283865",
   "metadata": {},
   "outputs": [
    {
     "data": {
      "text/plain": [
       "333.09119999999996"
      ]
     },
     "execution_count": 18,
     "metadata": {},
     "output_type": "execute_result"
    }
   ],
   "source": [
    "customer_one_total += customer_one_tax  #15\n",
    "customer_one_total"
   ]
  },
  {
   "cell_type": "code",
   "execution_count": 19,
   "id": "76c716f7",
   "metadata": {},
   "outputs": [
    {
     "name": "stdout",
     "output_type": "stream",
     "text": [
      "Customer One Items:\n",
      "Lovely Loveseat. Tufted polyester blend on wood. 32 inches high x 40 inches wide x 30 inches deep. Red or white.Luxurious Lamp. Glass and iron. 36 inches tall. Brown with cream shade.\n"
     ]
    }
   ],
   "source": [
    "print(\"Customer One Items:\")    #16\n",
    "print(customer_one_itemization) #17"
   ]
  },
  {
   "cell_type": "code",
   "execution_count": 20,
   "id": "e0b47641",
   "metadata": {},
   "outputs": [
    {
     "name": "stdout",
     "output_type": "stream",
     "text": [
      "Customer One Total:\n",
      "333.09119999999996\n"
     ]
    }
   ],
   "source": [
    "print(\"Customer One Total:\")    #18\n",
    "print(customer_one_total)       #19"
   ]
  }
 ],
 "metadata": {
  "kernelspec": {
   "display_name": "base",
   "language": "python",
   "name": "python3"
  },
  "language_info": {
   "codemirror_mode": {
    "name": "ipython",
    "version": 3
   },
   "file_extension": ".py",
   "mimetype": "text/x-python",
   "name": "python",
   "nbconvert_exporter": "python",
   "pygments_lexer": "ipython3",
   "version": "3.12.4"
  }
 },
 "nbformat": 4,
 "nbformat_minor": 5
}
